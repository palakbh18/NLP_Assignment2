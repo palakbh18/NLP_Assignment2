{
  "nbformat": 4,
  "nbformat_minor": 0,
  "metadata": {
    "colab": {
      "name": "Assignment2.ipynb",
      "provenance": [],
      "collapsed_sections": [],
      "toc_visible": true,
      "authorship_tag": "ABX9TyOKCKJj3b5pJbp4n5DjRqN1",
      "include_colab_link": true
    },
    "kernelspec": {
      "name": "python3",
      "display_name": "Python 3"
    },
    "accelerator": "GPU"
  },
  "cells": [
    {
      "cell_type": "markdown",
      "metadata": {
        "id": "view-in-github",
        "colab_type": "text"
      },
      "source": [
        "<a href=\"https://colab.research.google.com/github/palakbh18/NLP_Assignment2/blob/master/Assignment2.ipynb\" target=\"_parent\"><img src=\"https://colab.research.google.com/assets/colab-badge.svg\" alt=\"Open In Colab\"/></a>"
      ]
    },
    {
      "cell_type": "code",
      "metadata": {
        "id": "j5_pNVptbPjJ",
        "colab_type": "code",
        "outputId": "e6499fce-dd9f-4b70-8c4f-d6ac16ef154d",
        "colab": {
          "base_uri": "https://localhost:8080/",
          "height": 136
        }
      },
      "source": [
        "# Import tensorflow\n",
        "# Import the pandas library to read the dataset \n",
        "import tensorflow.compat.v1 as tf\n",
        "tf.disable_v2_behavior()\n",
        "import pandas as pd\n",
        "# Import numpy \n",
        "import numpy as np\n",
        "# Import nltk\n",
        "import nltk \n",
        "import matplotlib.pyplot as plt\n",
        "import random \n",
        "from nltk.tokenize import word_tokenize\n",
        "nltk.download('punkt') \n",
        "nltk.download('stopwords') \n",
        "nltk.download('wordnet') "
      ],
      "execution_count": 0,
      "outputs": [
        {
          "output_type": "stream",
          "text": [
            "[nltk_data] Downloading package punkt to /root/nltk_data...\n",
            "[nltk_data]   Package punkt is already up-to-date!\n",
            "[nltk_data] Downloading package stopwords to /root/nltk_data...\n",
            "[nltk_data]   Package stopwords is already up-to-date!\n",
            "[nltk_data] Downloading package wordnet to /root/nltk_data...\n",
            "[nltk_data]   Package wordnet is already up-to-date!\n"
          ],
          "name": "stdout"
        },
        {
          "output_type": "execute_result",
          "data": {
            "text/plain": [
              "True"
            ]
          },
          "metadata": {
            "tags": []
          },
          "execution_count": 36
        }
      ]
    },
    {
      "cell_type": "code",
      "metadata": {
        "id": "pVsBt08N8Q14",
        "colab_type": "code",
        "outputId": "559333b2-3923-49ca-b705-bcee731abf65",
        "colab": {
          "base_uri": "https://localhost:8080/",
          "height": 359
        }
      },
      "source": [
        "#Import the required libraries\n",
        "import csv\n",
        "import urllib.request as urllib2\n",
        "# Importing data using the github url\n",
        "url = 'https://raw.githubusercontent.com/cacoderquan/Sentiment-Analysis-on-the-Rotten-Tomatoes-movie-review-dataset/master/train.tsv'\n",
        "response = urllib2.urlopen(url)\n",
        "\n",
        "# Read the data and convert into dataframe\n",
        "data = pd.read_csv(response,delimiter='\\t',encoding='utf-8')\n",
        "# Printing the first 10 rows of the dataset\n",
        "data.head(10)\n"
      ],
      "execution_count": 0,
      "outputs": [
        {
          "output_type": "execute_result",
          "data": {
            "text/html": [
              "<div>\n",
              "<style scoped>\n",
              "    .dataframe tbody tr th:only-of-type {\n",
              "        vertical-align: middle;\n",
              "    }\n",
              "\n",
              "    .dataframe tbody tr th {\n",
              "        vertical-align: top;\n",
              "    }\n",
              "\n",
              "    .dataframe thead th {\n",
              "        text-align: right;\n",
              "    }\n",
              "</style>\n",
              "<table border=\"1\" class=\"dataframe\">\n",
              "  <thead>\n",
              "    <tr style=\"text-align: right;\">\n",
              "      <th></th>\n",
              "      <th>PhraseId</th>\n",
              "      <th>SentenceId</th>\n",
              "      <th>Phrase</th>\n",
              "      <th>Sentiment</th>\n",
              "    </tr>\n",
              "  </thead>\n",
              "  <tbody>\n",
              "    <tr>\n",
              "      <th>0</th>\n",
              "      <td>1</td>\n",
              "      <td>1</td>\n",
              "      <td>A series of escapades demonstrating the adage ...</td>\n",
              "      <td>1</td>\n",
              "    </tr>\n",
              "    <tr>\n",
              "      <th>1</th>\n",
              "      <td>2</td>\n",
              "      <td>1</td>\n",
              "      <td>A series of escapades demonstrating the adage ...</td>\n",
              "      <td>2</td>\n",
              "    </tr>\n",
              "    <tr>\n",
              "      <th>2</th>\n",
              "      <td>3</td>\n",
              "      <td>1</td>\n",
              "      <td>A series</td>\n",
              "      <td>2</td>\n",
              "    </tr>\n",
              "    <tr>\n",
              "      <th>3</th>\n",
              "      <td>4</td>\n",
              "      <td>1</td>\n",
              "      <td>A</td>\n",
              "      <td>2</td>\n",
              "    </tr>\n",
              "    <tr>\n",
              "      <th>4</th>\n",
              "      <td>5</td>\n",
              "      <td>1</td>\n",
              "      <td>series</td>\n",
              "      <td>2</td>\n",
              "    </tr>\n",
              "    <tr>\n",
              "      <th>5</th>\n",
              "      <td>6</td>\n",
              "      <td>1</td>\n",
              "      <td>of escapades demonstrating the adage that what...</td>\n",
              "      <td>2</td>\n",
              "    </tr>\n",
              "    <tr>\n",
              "      <th>6</th>\n",
              "      <td>7</td>\n",
              "      <td>1</td>\n",
              "      <td>of</td>\n",
              "      <td>2</td>\n",
              "    </tr>\n",
              "    <tr>\n",
              "      <th>7</th>\n",
              "      <td>8</td>\n",
              "      <td>1</td>\n",
              "      <td>escapades demonstrating the adage that what is...</td>\n",
              "      <td>2</td>\n",
              "    </tr>\n",
              "    <tr>\n",
              "      <th>8</th>\n",
              "      <td>9</td>\n",
              "      <td>1</td>\n",
              "      <td>escapades</td>\n",
              "      <td>2</td>\n",
              "    </tr>\n",
              "    <tr>\n",
              "      <th>9</th>\n",
              "      <td>10</td>\n",
              "      <td>1</td>\n",
              "      <td>demonstrating the adage that what is good for ...</td>\n",
              "      <td>2</td>\n",
              "    </tr>\n",
              "  </tbody>\n",
              "</table>\n",
              "</div>"
            ],
            "text/plain": [
              "   PhraseId  ...  Sentiment\n",
              "0         1  ...          1\n",
              "1         2  ...          2\n",
              "2         3  ...          2\n",
              "3         4  ...          2\n",
              "4         5  ...          2\n",
              "5         6  ...          2\n",
              "6         7  ...          2\n",
              "7         8  ...          2\n",
              "8         9  ...          2\n",
              "9        10  ...          2\n",
              "\n",
              "[10 rows x 4 columns]"
            ]
          },
          "metadata": {
            "tags": []
          },
          "execution_count": 4
        }
      ]
    },
    {
      "cell_type": "code",
      "metadata": {
        "id": "4wcHpyYL8Ui5",
        "colab_type": "code",
        "colab": {}
      },
      "source": [
        "data = data.sample(frac=1).reset_index(drop=True)\n"
      ],
      "execution_count": 0,
      "outputs": []
    },
    {
      "cell_type": "code",
      "metadata": {
        "id": "-p3NgyNn8WIy",
        "colab_type": "code",
        "outputId": "cf9d4999-00d3-4824-a893-49b41af5aba8",
        "colab": {
          "base_uri": "https://localhost:8080/",
          "height": 34
        }
      },
      "source": [
        "# Import train_test_split from sklearn and set the random state to 2003\n",
        "from sklearn.model_selection import train_test_split\n",
        "X_train, X_test, Y_train, Y_test = train_test_split(data ['Phrase'], data ['Sentiment'], test_size=0.3, random_state=2003)\n",
        "documents=[]\n",
        "X_train = np.array(X_train.values.tolist())\n",
        "Y_train = np.array(Y_train.values.tolist())\n",
        "\n",
        "## Cleaning and pre processing the data\n",
        "## Use a word tokenizer to tokenize the documents\n",
        "for i in range(len(X_train)):\n",
        "  documents.append([list(word_tokenize(X_train[i])), Y_train[i]]) \n",
        "X_test = np.array(X_test.values.tolist())\n",
        "Y_test = np.array(Y_test.values.tolist())\n",
        "for i in range(len(X_test)):\n",
        "  documents.append([list(word_tokenize(X_test[i])), Y_test[i]]) \n",
        "# print a document\n",
        "documents[0]"
      ],
      "execution_count": 0,
      "outputs": [
        {
          "output_type": "execute_result",
          "data": {
            "text/plain": [
              "[['believable', 'and'], 3]"
            ]
          },
          "metadata": {
            "tags": []
          },
          "execution_count": 6
        }
      ]
    },
    {
      "cell_type": "code",
      "metadata": {
        "id": "cB6oVtso8YRu",
        "colab_type": "code",
        "colab": {}
      },
      "source": [
        "## Removing stop words and using lemmatizer to stem the words\n",
        "from nltk.corpus import stopwords \n",
        "from nltk.stem import WordNetLemmatizer, PorterStemmer, LancasterStemmer \n",
        "porter = PorterStemmer() \n",
        "lancaster=LancasterStemmer() \n",
        "wordnet_lemmatizer = WordNetLemmatizer() \n",
        "stopwords_en = stopwords.words(\"english\") \n",
        "punctuations=\"?:!.,;'\\\"-()\"\n",
        "## Using various parameters to remove stop words, stemming and lemmatizing\n",
        "remove_stopwords = True\n",
        "useStemming = False\n",
        "useLemma = False\n",
        "removePuncs = True\n"
      ],
      "execution_count": 0,
      "outputs": []
    },
    {
      "cell_type": "code",
      "metadata": {
        "id": "TPYGw8h58aig",
        "colab_type": "code",
        "colab": {}
      },
      "source": [
        "## Creating more refined and clean reviews\n",
        "for l in range(len(documents)):                   \n",
        "  label = documents[l][1]                         \n",
        "  temp = []                                  \n",
        "  for w in documents[l][0]:                       \n",
        "    newWord = w                                   \n",
        "    if remove_stopwords and (w in stopwords_en):  \n",
        "      continue                                   \n",
        "    if removePuncs and (w in punctuations):       \n",
        "      continue                                    \n",
        "    if useStemming: \n",
        "    ## Use Lancaster stemmer\n",
        "      newWord = lancaster.stem(newWord)\n",
        "    if useLemma: \n",
        "      newWord = wordnet_lemmatizer.lemmatize(newWord) \n",
        "    temp.append(newWord)                 \n",
        "## Removing the unprocessed reviews with clean refined reviews\n",
        "  documents[l] = (temp, label)             \n",
        "  documents[l] = (' '.join(temp), label) \n"
      ],
      "execution_count": 0,
      "outputs": []
    },
    {
      "cell_type": "code",
      "metadata": {
        "id": "hPYgRYM38c7K",
        "colab_type": "code",
        "colab": {}
      },
      "source": [
        "## Displaying sample of data documents\n",
        "data = pd.DataFrame(documents, columns=['text', 'sentiment']) \n",
        "data.head()\n",
        "X_train, X_test, Y_train, Y_test = train_test_split(data['text'],  data['sentiment'], test_size=0.3, random_state=2003)\n",
        "\n"
      ],
      "execution_count": 0,
      "outputs": []
    },
    {
      "cell_type": "code",
      "metadata": {
        "id": "KGYLaZNB8iE2",
        "colab_type": "code",
        "outputId": "4762a94b-5939-4c7c-bdcc-3d858eb00966",
        "colab": {
          "base_uri": "https://localhost:8080/",
          "height": 34
        }
      },
      "source": [
        "### Using TF-IDF Vectorization\n",
        "from sklearn.feature_extraction.text import CountVectorizer , TfidfVectorizer\n",
        "from keras.utils import to_categorical\n",
        "\n",
        "vectorizer = TfidfVectorizer(max_features = 2000,ngram_range=(1, 1)) \n",
        "X = vectorizer.fit_transform(data[\"text\"]) \n",
        "Y = data['sentiment'] \n",
        "\n",
        "X_train = vectorizer.transform(X_train).toarray()\n",
        "Y_train = Y_train \n",
        "X_test = vectorizer.transform(X_test).toarray()\n",
        "Y_test = Y_test"
      ],
      "execution_count": 0,
      "outputs": [
        {
          "output_type": "stream",
          "text": [
            "Using TensorFlow backend.\n"
          ],
          "name": "stderr"
        }
      ]
    },
    {
      "cell_type": "code",
      "metadata": {
        "id": "AZICVCcv8peq",
        "colab_type": "code",
        "colab": {}
      },
      "source": [
        "import keras\n",
        "from keras.datasets import mnist\n",
        "from keras.models import Sequential\n",
        "from keras.layers import Dense, Dropout, Flatten\n",
        "from keras.layers import Conv1D, MaxPooling1D\n"
      ],
      "execution_count": 0,
      "outputs": []
    },
    {
      "cell_type": "code",
      "metadata": {
        "id": "PpHXefdm8pmb",
        "colab_type": "code",
        "colab": {}
      },
      "source": [
        "## Setting up parameters for training the model\n",
        "num_classes = 5"
      ],
      "execution_count": 0,
      "outputs": []
    },
    {
      "cell_type": "code",
      "metadata": {
        "id": "xD_gC44Q8vMx",
        "colab_type": "code",
        "colab": {}
      },
      "source": [
        "Y_train = keras.utils.to_categorical(Y_train, num_classes)\n",
        "Y_test = keras.utils.to_categorical(Y_test, num_classes)\n"
      ],
      "execution_count": 0,
      "outputs": []
    },
    {
      "cell_type": "code",
      "metadata": {
        "id": "sznvNaoowxxv",
        "colab_type": "code",
        "colab": {}
      },
      "source": [
        "# Defining functions for calculating various performance metrics\n",
        "from keras import backend as K\n",
        "\n",
        "def recall_m(y_true, y_pred):\n",
        "    true_positives = K.sum(K.round(K.clip(y_true * y_pred, 0, 1)))\n",
        "    possible_positives = K.sum(K.round(K.clip(y_true, 0, 1)))\n",
        "    recall = true_positives / (possible_positives + K.epsilon())\n",
        "    return recall\n",
        "\n",
        "def precision_m(y_true, y_pred):\n",
        "    true_positives = K.sum(K.round(K.clip(y_true * y_pred, 0, 1)))\n",
        "    predicted_positives = K.sum(K.round(K.clip(y_pred, 0, 1)))\n",
        "    precision = true_positives / (predicted_positives + K.epsilon())\n",
        "    return precision\n",
        "\n",
        "def f1_m(y_true, y_pred):\n",
        "    precision = precision_m(y_true, y_pred)\n",
        "    recall = recall_m(y_true, y_pred)\n",
        "    return 2*((precision*recall)/(precision+recall+K.epsilon()))"
      ],
      "execution_count": 0,
      "outputs": []
    },
    {
      "cell_type": "code",
      "metadata": {
        "id": "EXrD6ky9Uz4X",
        "colab_type": "code",
        "colab": {}
      },
      "source": [
        "## Function for defining a convolutional model\n",
        "from keras.models import Sequential\n",
        "def cnnModelTrain():\n",
        "\n",
        "    model = Sequential()\n",
        "    model.add(Conv1D(filters=64, kernel_size=3,\n",
        "                 activation='relu',\n",
        "                 input_shape=(2000,1)))\n",
        "    model.add(MaxPooling1D(pool_size=1))\n",
        "    model.add(Conv1D(32, kernel_size=5, activation='relu'))\n",
        "    model.add(MaxPooling1D(pool_size=1))\n",
        "    model.add(Dropout(rate = 0.50))\n",
        "    model.add(Flatten())\n",
        "    # model.add(Dense(64, activation='relu'))\n",
        "    # model.add(Dropout(0.5))\n",
        "    model.add(Dense(num_classes, activation='softmax'))\n",
        "  # Define a method to feed inputs through the model\n",
        "    model.compile(loss=keras.losses.categorical_crossentropy,\n",
        "              optimizer=keras.optimizers.Adam(),\n",
        "              metrics=['accuracy',f1_m,precision_m, recall_m])\n",
        "    return model    "
      ],
      "execution_count": 0,
      "outputs": []
    },
    {
      "cell_type": "code",
      "metadata": {
        "id": "L8JgmV4GVb9Z",
        "colab_type": "code",
        "colab": {}
      },
      "source": [
        "model= cnnModelTrain()\n",
        "model.summary()"
      ],
      "execution_count": 0,
      "outputs": []
    },
    {
      "cell_type": "code",
      "metadata": {
        "id": "82VF57km820x",
        "colab_type": "code",
        "colab": {}
      },
      "source": [
        "X_train = X_train.reshape(X_train.shape[0], X_train.shape[1], 1)\n",
        "X_test = X_test.reshape(X_test.shape[0], X_test.shape[1], 1)"
      ],
      "execution_count": 0,
      "outputs": []
    },
    {
      "cell_type": "code",
      "metadata": {
        "id": "vkCXWhA487vc",
        "colab_type": "code",
        "outputId": "03f15ed1-a709-4bd5-86b7-0d10e0c06ada",
        "colab": {
          "base_uri": "https://localhost:8080/",
          "height": 1000
        }
      },
      "source": [
        "#### Calcaulte inference time\n",
        "from time import time\n",
        "start_time = time()\n",
        "train_score=[]\n",
        "\n",
        "\n",
        "history = model.fit(X_train, Y_train,batch_size=64,epochs=15,verbose=1)\n",
        "\n",
        "# evaluate the model\n",
        "loss, accuracy, f1_score, precision, recall = model.evaluate(X_test, Y_test, verbose=0)\n",
        "#score = model.evaluate(X_test, Y_test, verbose=0)\n",
        "print('Test loss:', loss)\n",
        "print('Test accuracy:', accuracy)\n",
        "print('Test Precision:',precision)\n",
        "print('Test Recall',recall)\n",
        "print('Test F1_Score',f1_score)\n",
        "\n",
        "print(history.history.keys())\n",
        "\n",
        "## Plotting various metrics with epochs\n",
        "\n",
        "# summarize history for accuracy\n",
        "plt.plot(history.history['acc'])\n",
        "plt.title('Training Accuracy')\n",
        "plt.ylabel('accuracy')\n",
        "plt.xlabel('epoch')\n",
        "plt.show()\n",
        "\n",
        "# summarize history for Loss\n",
        "plt.plot(history.history['loss'])\n",
        "plt.title('Training Loss')\n",
        "plt.ylabel('Loss')\n",
        "plt.xlabel('epoch')\n",
        "plt.show()\n",
        "\n",
        "# summarize history for F1_Score\n",
        "plt.plot(history.history['f1_m'])\n",
        "plt.title('Training F1_Score')\n",
        "plt.ylabel('F1_Score')\n",
        "plt.xlabel('epoch')\n",
        "plt.show()\n",
        "\n",
        "# summarize history for Recall\n",
        "plt.plot(history.history['recall_m'])\n",
        "plt.title('Training Recall')\n",
        "plt.ylabel('Recall')\n",
        "plt.xlabel('epoch')\n",
        "plt.show()\n",
        "\n",
        "\n",
        "# summarize history for Precision\n",
        "plt.plot(history.history['precision_m'])\n",
        "plt.title('Training Precision')\n",
        "plt.ylabel('Precision')\n",
        "plt.xlabel('epoch')\n",
        "plt.show()\n",
        "\n",
        "#### Time for training the model\n",
        "time_taken = time() - start_time\n",
        "print(\"Inference time: %.4f s\" % time_taken)\n"
      ],
      "execution_count": 45,
      "outputs": [
        {
          "output_type": "stream",
          "text": [
            "Epoch 1/100\n",
            "109242/109242 [==============================] - 26s 235us/step - loss: 1.1146 - acc: 0.5628 - f1_m: 0.4935 - precision_m: 0.6228 - recall_m: 0.4137\n",
            "Epoch 2/100\n",
            "109242/109242 [==============================] - 25s 232us/step - loss: 1.0256 - acc: 0.5960 - f1_m: 0.5538 - precision_m: 0.6608 - recall_m: 0.4784\n",
            "Epoch 3/100\n",
            "109242/109242 [==============================] - 25s 231us/step - loss: 1.0061 - acc: 0.6018 - f1_m: 0.5651 - precision_m: 0.6655 - recall_m: 0.4924\n",
            "Epoch 4/100\n",
            "109242/109242 [==============================] - 26s 234us/step - loss: 0.9962 - acc: 0.6071 - f1_m: 0.5699 - precision_m: 0.6680 - recall_m: 0.4983\n",
            "Epoch 5/100\n",
            "109242/109242 [==============================] - 26s 235us/step - loss: 0.9895 - acc: 0.6074 - f1_m: 0.5737 - precision_m: 0.6678 - recall_m: 0.5041\n",
            "Epoch 6/100\n",
            "109242/109242 [==============================] - 25s 232us/step - loss: 0.9825 - acc: 0.6110 - f1_m: 0.5780 - precision_m: 0.6694 - recall_m: 0.5097\n",
            "Epoch 7/100\n",
            "109242/109242 [==============================] - 25s 231us/step - loss: 0.9780 - acc: 0.6138 - f1_m: 0.5799 - precision_m: 0.6700 - recall_m: 0.5124\n",
            "Epoch 8/100\n",
            "109242/109242 [==============================] - 25s 232us/step - loss: 0.9719 - acc: 0.6148 - f1_m: 0.5834 - precision_m: 0.6719 - recall_m: 0.5167\n",
            "Epoch 9/100\n",
            "109242/109242 [==============================] - 25s 231us/step - loss: 0.9688 - acc: 0.6172 - f1_m: 0.5852 - precision_m: 0.6725 - recall_m: 0.5191\n",
            "Epoch 10/100\n",
            "109242/109242 [==============================] - 25s 231us/step - loss: 0.9655 - acc: 0.6178 - f1_m: 0.5865 - precision_m: 0.6730 - recall_m: 0.5210\n",
            "Epoch 11/100\n",
            "109242/109242 [==============================] - 25s 232us/step - loss: 0.9637 - acc: 0.6178 - f1_m: 0.5881 - precision_m: 0.6736 - recall_m: 0.5230\n",
            "Epoch 12/100\n",
            "109242/109242 [==============================] - 25s 233us/step - loss: 0.9604 - acc: 0.6201 - f1_m: 0.5891 - precision_m: 0.6737 - recall_m: 0.5245\n",
            "Epoch 13/100\n",
            "109242/109242 [==============================] - 25s 231us/step - loss: 0.9575 - acc: 0.6205 - f1_m: 0.5910 - precision_m: 0.6757 - recall_m: 0.5263\n",
            "Epoch 14/100\n",
            "109242/109242 [==============================] - 25s 232us/step - loss: 0.9564 - acc: 0.6225 - f1_m: 0.5929 - precision_m: 0.6758 - recall_m: 0.5292\n",
            "Epoch 15/100\n",
            "109242/109242 [==============================] - 25s 233us/step - loss: 0.9535 - acc: 0.6228 - f1_m: 0.5927 - precision_m: 0.6751 - recall_m: 0.5294\n",
            "Epoch 16/100\n",
            "109242/109242 [==============================] - 26s 235us/step - loss: 0.9505 - acc: 0.6230 - f1_m: 0.5934 - precision_m: 0.6760 - recall_m: 0.5300\n",
            "Epoch 17/100\n",
            "109242/109242 [==============================] - 25s 232us/step - loss: 0.9491 - acc: 0.6242 - f1_m: 0.5950 - precision_m: 0.6769 - recall_m: 0.5319\n",
            "Epoch 18/100\n",
            "109242/109242 [==============================] - 25s 231us/step - loss: 0.9472 - acc: 0.6253 - f1_m: 0.5972 - precision_m: 0.6790 - recall_m: 0.5341\n",
            "Epoch 19/100\n",
            "109242/109242 [==============================] - 25s 232us/step - loss: 0.9449 - acc: 0.6263 - f1_m: 0.5977 - precision_m: 0.6785 - recall_m: 0.5351\n",
            "Epoch 20/100\n",
            "109242/109242 [==============================] - 25s 231us/step - loss: 0.9423 - acc: 0.6287 - f1_m: 0.5997 - precision_m: 0.6795 - recall_m: 0.5378\n",
            "Epoch 21/100\n",
            "109242/109242 [==============================] - 25s 230us/step - loss: 0.9408 - acc: 0.6274 - f1_m: 0.6001 - precision_m: 0.6797 - recall_m: 0.5383\n",
            "Epoch 22/100\n",
            "109242/109242 [==============================] - 25s 231us/step - loss: 0.9383 - acc: 0.6302 - f1_m: 0.6026 - precision_m: 0.6824 - recall_m: 0.5407\n",
            "Epoch 23/100\n",
            "109242/109242 [==============================] - 25s 230us/step - loss: 0.9372 - acc: 0.6297 - f1_m: 0.6017 - precision_m: 0.6803 - recall_m: 0.5405\n",
            "Epoch 24/100\n",
            "109242/109242 [==============================] - 25s 230us/step - loss: 0.9356 - acc: 0.6300 - f1_m: 0.6026 - precision_m: 0.6805 - recall_m: 0.5418\n",
            "Epoch 25/100\n",
            "109242/109242 [==============================] - 25s 231us/step - loss: 0.9343 - acc: 0.6300 - f1_m: 0.6039 - precision_m: 0.6823 - recall_m: 0.5426\n",
            "Epoch 26/100\n",
            "109242/109242 [==============================] - 25s 233us/step - loss: 0.9329 - acc: 0.6307 - f1_m: 0.6034 - precision_m: 0.6810 - recall_m: 0.5428\n",
            "Epoch 27/100\n",
            "109242/109242 [==============================] - 25s 231us/step - loss: 0.9299 - acc: 0.6327 - f1_m: 0.6070 - precision_m: 0.6834 - recall_m: 0.5470\n",
            "Epoch 28/100\n",
            "109242/109242 [==============================] - 25s 231us/step - loss: 0.9289 - acc: 0.6329 - f1_m: 0.6070 - precision_m: 0.6829 - recall_m: 0.5473\n",
            "Epoch 29/100\n",
            "109242/109242 [==============================] - 25s 229us/step - loss: 0.9276 - acc: 0.6333 - f1_m: 0.6075 - precision_m: 0.6838 - recall_m: 0.5475\n",
            "Epoch 30/100\n",
            "109242/109242 [==============================] - 25s 231us/step - loss: 0.9270 - acc: 0.6336 - f1_m: 0.6078 - precision_m: 0.6841 - recall_m: 0.5479\n",
            "Epoch 31/100\n",
            "109242/109242 [==============================] - 25s 229us/step - loss: 0.9258 - acc: 0.6330 - f1_m: 0.6082 - precision_m: 0.6837 - recall_m: 0.5487\n",
            "Epoch 32/100\n",
            "109242/109242 [==============================] - 25s 229us/step - loss: 0.9232 - acc: 0.6352 - f1_m: 0.6090 - precision_m: 0.6831 - recall_m: 0.5504\n",
            "Epoch 33/100\n",
            "109242/109242 [==============================] - 25s 230us/step - loss: 0.9222 - acc: 0.6344 - f1_m: 0.6117 - precision_m: 0.6862 - recall_m: 0.5527\n",
            "Epoch 34/100\n",
            "109242/109242 [==============================] - 25s 229us/step - loss: 0.9218 - acc: 0.6360 - f1_m: 0.6104 - precision_m: 0.6862 - recall_m: 0.5506\n",
            "Epoch 35/100\n",
            "109242/109242 [==============================] - 25s 231us/step - loss: 0.9197 - acc: 0.6361 - f1_m: 0.6112 - precision_m: 0.6852 - recall_m: 0.5526\n",
            "Epoch 36/100\n",
            "109242/109242 [==============================] - 25s 233us/step - loss: 0.9181 - acc: 0.6360 - f1_m: 0.6114 - precision_m: 0.6841 - recall_m: 0.5536\n",
            "Epoch 37/100\n",
            "109242/109242 [==============================] - 26s 234us/step - loss: 0.9180 - acc: 0.6355 - f1_m: 0.6117 - precision_m: 0.6845 - recall_m: 0.5537\n",
            "Epoch 38/100\n",
            "109242/109242 [==============================] - 25s 232us/step - loss: 0.9157 - acc: 0.6362 - f1_m: 0.6129 - precision_m: 0.6857 - recall_m: 0.5550\n",
            "Epoch 39/100\n",
            "109242/109242 [==============================] - 26s 234us/step - loss: 0.9156 - acc: 0.6348 - f1_m: 0.6122 - precision_m: 0.6857 - recall_m: 0.5538\n",
            "Epoch 40/100\n",
            "109242/109242 [==============================] - 26s 234us/step - loss: 0.9145 - acc: 0.6371 - f1_m: 0.6130 - precision_m: 0.6854 - recall_m: 0.5553\n",
            "Epoch 41/100\n",
            "109242/109242 [==============================] - 26s 235us/step - loss: 0.9137 - acc: 0.6367 - f1_m: 0.6127 - precision_m: 0.6853 - recall_m: 0.5549\n",
            "Epoch 42/100\n",
            "109242/109242 [==============================] - 25s 232us/step - loss: 0.9132 - acc: 0.6377 - f1_m: 0.6139 - precision_m: 0.6853 - recall_m: 0.5570\n",
            "Epoch 43/100\n",
            "109242/109242 [==============================] - 25s 232us/step - loss: 0.9126 - acc: 0.6385 - f1_m: 0.6150 - precision_m: 0.6872 - recall_m: 0.5575\n",
            "Epoch 44/100\n",
            "109242/109242 [==============================] - 25s 229us/step - loss: 0.9124 - acc: 0.6385 - f1_m: 0.6154 - precision_m: 0.6869 - recall_m: 0.5583\n",
            "Epoch 45/100\n",
            "109242/109242 [==============================] - 25s 230us/step - loss: 0.9091 - acc: 0.6395 - f1_m: 0.6167 - precision_m: 0.6878 - recall_m: 0.5598\n",
            "Epoch 46/100\n",
            "109242/109242 [==============================] - 25s 232us/step - loss: 0.9089 - acc: 0.6402 - f1_m: 0.6169 - precision_m: 0.6882 - recall_m: 0.5600\n",
            "Epoch 47/100\n",
            "109242/109242 [==============================] - 25s 230us/step - loss: 0.9077 - acc: 0.6400 - f1_m: 0.6170 - precision_m: 0.6878 - recall_m: 0.5603\n",
            "Epoch 48/100\n",
            "109242/109242 [==============================] - 25s 229us/step - loss: 0.9070 - acc: 0.6413 - f1_m: 0.6182 - precision_m: 0.6888 - recall_m: 0.5616\n",
            "Epoch 49/100\n",
            "109242/109242 [==============================] - 25s 231us/step - loss: 0.9068 - acc: 0.6406 - f1_m: 0.6169 - precision_m: 0.6876 - recall_m: 0.5603\n",
            "Epoch 50/100\n",
            "109242/109242 [==============================] - 25s 229us/step - loss: 0.9052 - acc: 0.6418 - f1_m: 0.6189 - precision_m: 0.6890 - recall_m: 0.5626\n",
            "Epoch 51/100\n",
            "109242/109242 [==============================] - 25s 229us/step - loss: 0.9058 - acc: 0.6408 - f1_m: 0.6180 - precision_m: 0.6879 - recall_m: 0.5619\n",
            "Epoch 52/100\n",
            "109242/109242 [==============================] - 25s 230us/step - loss: 0.9042 - acc: 0.6409 - f1_m: 0.6177 - precision_m: 0.6880 - recall_m: 0.5614\n",
            "Epoch 53/100\n",
            "109242/109242 [==============================] - 25s 230us/step - loss: 0.9038 - acc: 0.6428 - f1_m: 0.6189 - precision_m: 0.6881 - recall_m: 0.5633\n",
            "Epoch 54/100\n",
            "109242/109242 [==============================] - 25s 229us/step - loss: 0.9033 - acc: 0.6412 - f1_m: 0.6186 - precision_m: 0.6888 - recall_m: 0.5622\n",
            "Epoch 55/100\n",
            "109242/109242 [==============================] - 25s 230us/step - loss: 0.9023 - acc: 0.6420 - f1_m: 0.6203 - precision_m: 0.6897 - recall_m: 0.5646\n",
            "Epoch 56/100\n",
            "109242/109242 [==============================] - 25s 229us/step - loss: 0.9005 - acc: 0.6428 - f1_m: 0.6222 - precision_m: 0.6902 - recall_m: 0.5672\n",
            "Epoch 57/100\n",
            "109242/109242 [==============================] - 25s 229us/step - loss: 0.9021 - acc: 0.6418 - f1_m: 0.6194 - precision_m: 0.6879 - recall_m: 0.5643\n",
            "Epoch 58/100\n",
            "109242/109242 [==============================] - 25s 229us/step - loss: 0.9004 - acc: 0.6422 - f1_m: 0.6197 - precision_m: 0.6891 - recall_m: 0.5639\n",
            "Epoch 59/100\n",
            "109242/109242 [==============================] - 25s 229us/step - loss: 0.9016 - acc: 0.6435 - f1_m: 0.6217 - precision_m: 0.6908 - recall_m: 0.5661\n",
            "Epoch 60/100\n",
            "109242/109242 [==============================] - 25s 230us/step - loss: 0.8994 - acc: 0.6422 - f1_m: 0.6214 - precision_m: 0.6905 - recall_m: 0.5659\n",
            "Epoch 61/100\n",
            "109242/109242 [==============================] - 25s 229us/step - loss: 0.8992 - acc: 0.6436 - f1_m: 0.6218 - precision_m: 0.6900 - recall_m: 0.5669\n",
            "Epoch 62/100\n",
            "109242/109242 [==============================] - 25s 230us/step - loss: 0.8978 - acc: 0.6431 - f1_m: 0.6218 - precision_m: 0.6899 - recall_m: 0.5670\n",
            "Epoch 63/100\n",
            "109242/109242 [==============================] - 25s 229us/step - loss: 0.8984 - acc: 0.6440 - f1_m: 0.6228 - precision_m: 0.6903 - recall_m: 0.5682\n",
            "Epoch 64/100\n",
            "109242/109242 [==============================] - 25s 229us/step - loss: 0.8974 - acc: 0.6443 - f1_m: 0.6239 - precision_m: 0.6912 - recall_m: 0.5694\n",
            "Epoch 65/100\n",
            "109242/109242 [==============================] - 25s 233us/step - loss: 0.8962 - acc: 0.6438 - f1_m: 0.6227 - precision_m: 0.6911 - recall_m: 0.5676\n",
            "Epoch 66/100\n",
            "109242/109242 [==============================] - 25s 232us/step - loss: 0.8955 - acc: 0.6455 - f1_m: 0.6233 - precision_m: 0.6908 - recall_m: 0.5688\n",
            "Epoch 67/100\n",
            "109242/109242 [==============================] - 25s 233us/step - loss: 0.8950 - acc: 0.6463 - f1_m: 0.6242 - precision_m: 0.6908 - recall_m: 0.5701\n",
            "Epoch 68/100\n",
            "109242/109242 [==============================] - 25s 232us/step - loss: 0.8957 - acc: 0.6448 - f1_m: 0.6239 - precision_m: 0.6917 - recall_m: 0.5692\n",
            "Epoch 69/100\n",
            "109242/109242 [==============================] - 25s 229us/step - loss: 0.8941 - acc: 0.6446 - f1_m: 0.6235 - precision_m: 0.6900 - recall_m: 0.5696\n",
            "Epoch 70/100\n",
            "109242/109242 [==============================] - 25s 230us/step - loss: 0.8941 - acc: 0.6457 - f1_m: 0.6241 - precision_m: 0.6908 - recall_m: 0.5699\n",
            "Epoch 71/100\n",
            "109242/109242 [==============================] - 25s 230us/step - loss: 0.8926 - acc: 0.6465 - f1_m: 0.6248 - precision_m: 0.6910 - recall_m: 0.5711\n",
            "Epoch 72/100\n",
            "109242/109242 [==============================] - 25s 229us/step - loss: 0.8933 - acc: 0.6447 - f1_m: 0.6241 - precision_m: 0.6905 - recall_m: 0.5701\n",
            "Epoch 73/100\n",
            "109242/109242 [==============================] - 25s 228us/step - loss: 0.8917 - acc: 0.6459 - f1_m: 0.6257 - precision_m: 0.6917 - recall_m: 0.5720\n",
            "Epoch 74/100\n",
            "109242/109242 [==============================] - 25s 229us/step - loss: 0.8910 - acc: 0.6466 - f1_m: 0.6260 - precision_m: 0.6921 - recall_m: 0.5723\n",
            "Epoch 75/100\n",
            "109242/109242 [==============================] - 25s 228us/step - loss: 0.8918 - acc: 0.6472 - f1_m: 0.6264 - precision_m: 0.6920 - recall_m: 0.5730\n",
            "Epoch 76/100\n",
            "109242/109242 [==============================] - 25s 226us/step - loss: 0.8904 - acc: 0.6460 - f1_m: 0.6247 - precision_m: 0.6916 - recall_m: 0.5705\n",
            "Epoch 77/100\n",
            "109242/109242 [==============================] - 25s 226us/step - loss: 0.8899 - acc: 0.6472 - f1_m: 0.6263 - precision_m: 0.6928 - recall_m: 0.5724\n",
            "Epoch 78/100\n",
            "109242/109242 [==============================] - 25s 228us/step - loss: 0.8891 - acc: 0.6470 - f1_m: 0.6271 - precision_m: 0.6932 - recall_m: 0.5734\n",
            "Epoch 79/100\n",
            "109242/109242 [==============================] - 25s 226us/step - loss: 0.8886 - acc: 0.6487 - f1_m: 0.6279 - precision_m: 0.6935 - recall_m: 0.5745\n",
            "Epoch 80/100\n",
            "109242/109242 [==============================] - 25s 226us/step - loss: 0.8879 - acc: 0.6472 - f1_m: 0.6275 - precision_m: 0.6926 - recall_m: 0.5745\n",
            "Epoch 81/100\n",
            "109242/109242 [==============================] - 25s 227us/step - loss: 0.8888 - acc: 0.6472 - f1_m: 0.6269 - precision_m: 0.6908 - recall_m: 0.5746\n",
            "Epoch 82/100\n",
            "109242/109242 [==============================] - 25s 225us/step - loss: 0.8867 - acc: 0.6493 - f1_m: 0.6287 - precision_m: 0.6936 - recall_m: 0.5758\n",
            "Epoch 83/100\n",
            "109242/109242 [==============================] - 28s 254us/step - loss: 0.8868 - acc: 0.6483 - f1_m: 0.6284 - precision_m: 0.6937 - recall_m: 0.5753\n",
            "Epoch 84/100\n",
            "109242/109242 [==============================] - 25s 232us/step - loss: 0.8869 - acc: 0.6474 - f1_m: 0.6273 - precision_m: 0.6925 - recall_m: 0.5742\n",
            "Epoch 85/100\n",
            "109242/109242 [==============================] - 26s 235us/step - loss: 0.8859 - acc: 0.6485 - f1_m: 0.6281 - precision_m: 0.6926 - recall_m: 0.5755\n",
            "Epoch 86/100\n",
            "109242/109242 [==============================] - 26s 234us/step - loss: 0.8836 - acc: 0.6498 - f1_m: 0.6293 - precision_m: 0.6938 - recall_m: 0.5766\n",
            "Epoch 87/100\n",
            "109242/109242 [==============================] - 26s 236us/step - loss: 0.8864 - acc: 0.6468 - f1_m: 0.6275 - precision_m: 0.6922 - recall_m: 0.5746\n",
            "Epoch 88/100\n",
            "109242/109242 [==============================] - 26s 234us/step - loss: 0.8844 - acc: 0.6499 - f1_m: 0.6301 - precision_m: 0.6943 - recall_m: 0.5777\n",
            "Epoch 89/100\n",
            "109242/109242 [==============================] - 25s 232us/step - loss: 0.8845 - acc: 0.6495 - f1_m: 0.6289 - precision_m: 0.6934 - recall_m: 0.5763\n",
            "Epoch 90/100\n",
            "109242/109242 [==============================] - 26s 235us/step - loss: 0.8835 - acc: 0.6483 - f1_m: 0.6279 - precision_m: 0.6920 - recall_m: 0.5754\n",
            "Epoch 91/100\n",
            "109242/109242 [==============================] - 25s 233us/step - loss: 0.8841 - acc: 0.6501 - f1_m: 0.6297 - precision_m: 0.6934 - recall_m: 0.5775\n",
            "Epoch 92/100\n",
            "109242/109242 [==============================] - 25s 232us/step - loss: 0.8830 - acc: 0.6502 - f1_m: 0.6302 - precision_m: 0.6938 - recall_m: 0.5782\n",
            "Epoch 93/100\n",
            "109242/109242 [==============================] - 25s 233us/step - loss: 0.8831 - acc: 0.6490 - f1_m: 0.6295 - precision_m: 0.6933 - recall_m: 0.5772\n",
            "Epoch 94/100\n",
            "109242/109242 [==============================] - 25s 232us/step - loss: 0.8812 - acc: 0.6495 - f1_m: 0.6311 - precision_m: 0.6944 - recall_m: 0.5792\n",
            "Epoch 95/100\n",
            "109242/109242 [==============================] - 25s 232us/step - loss: 0.8812 - acc: 0.6507 - f1_m: 0.6305 - precision_m: 0.6934 - recall_m: 0.5788\n",
            "Epoch 96/100\n",
            "109242/109242 [==============================] - 25s 233us/step - loss: 0.8808 - acc: 0.6500 - f1_m: 0.6304 - precision_m: 0.6942 - recall_m: 0.5782\n",
            "Epoch 97/100\n",
            "109242/109242 [==============================] - 26s 234us/step - loss: 0.8807 - acc: 0.6508 - f1_m: 0.6326 - precision_m: 0.6947 - recall_m: 0.5814\n",
            "Epoch 98/100\n",
            "109242/109242 [==============================] - 26s 233us/step - loss: 0.8807 - acc: 0.6506 - f1_m: 0.6317 - precision_m: 0.6947 - recall_m: 0.5800\n",
            "Epoch 99/100\n",
            "109242/109242 [==============================] - 25s 232us/step - loss: 0.8787 - acc: 0.6515 - f1_m: 0.6321 - precision_m: 0.6961 - recall_m: 0.5797\n",
            "Epoch 100/100\n",
            "109242/109242 [==============================] - 26s 233us/step - loss: 0.8795 - acc: 0.6510 - f1_m: 0.6317 - precision_m: 0.6945 - recall_m: 0.5801\n",
            "Test loss: 1.0393064376473646\n",
            "Test accuracy: 0.6101499423298731\n",
            "Test Precision: 0.6507101260824895\n",
            "Test Recall 0.5369515998120381\n",
            "Test F1_Score 0.5874357935410551\n",
            "dict_keys(['loss', 'acc', 'f1_m', 'precision_m', 'recall_m'])\n"
          ],
          "name": "stdout"
        },
        {
          "output_type": "display_data",
          "data": {
            "image/png": "[encoded data removed]",
            "text/plain": [
              "<Figure size 432x288 with 1 Axes>"
            ]
          },
          "metadata": {
            "tags": []
          }
        },
        {
          "output_type": "display_data",
          "data": {
            "image/png": "[encoded data removed]",
            "text/plain": [
              "<Figure size 432x288 with 1 Axes>"
            ]
          },
          "metadata": {
            "tags": []
          }
        },
        {
          "output_type": "display_data",
          "data": {
            "image/png": "[encoded data removed]",
            "text/plain": [
              "<Figure size 432x288 with 1 Axes>"
            ]
          },
          "metadata": {
            "tags": []
          }
        },
        {
          "output_type": "display_data",
          "data": {
            "image/png": "[encoded data removed]",
            "text/plain": [
              "<Figure size 432x288 with 1 Axes>"
            ]
          },
          "metadata": {
            "tags": []
          }
        },
        {
          "output_type": "display_data",
          "data": {
            "image/png": "[encoded data removed]",
            "text/plain": [
              "<Figure size 432x288 with 1 Axes>"
            ]
          },
          "metadata": {
            "tags": []
          }
        },
        {
          "output_type": "stream",
          "text": [
            "Inference time: 2532.7674 s\n"
          ],
          "name": "stdout"
        }
      ]
    },
    {
      "cell_type": "code",
      "metadata": {
        "id": "zkMJrh8Vxao9",
        "colab_type": "code",
        "outputId": "ad9c5f13-3214-4c9f-9d05-ecfbf1dd38de",
        "colab": {
          "base_uri": "https://localhost:8080/",
          "height": 34
        }
      },
      "source": [
        "# Serialize model to JSON\n",
        "# Saving the model\n",
        "model_json = model.to_json()\n",
        "with open(\"1116552_1dconv_reg.json\", \"w\") as json_file:\n",
        "    json_file.write(model_json)\n",
        "# serialize weights to HDF5\n",
        "model.save_weights(\"model.h5\")\n",
        "print(\"Saved model to disk\")"
      ],
      "execution_count": 46,
      "outputs": [
        {
          "output_type": "stream",
          "text": [
            "Saved model to disk\n"
          ],
          "name": "stdout"
        }
      ]
    },
    {
      "cell_type": "code",
      "metadata": {
        "id": "GK2yLFqcxa05",
        "colab_type": "code",
        "outputId": "94f07fd7-661a-4a92-f94d-2b12aa3b9341",
        "colab": {
          "base_uri": "https://localhost:8080/",
          "height": 173
        }
      },
      "source": [
        "from keras.models import model_from_json\n",
        "# load the saved json and create model\n",
        "json_file = open('1116552_1dconv_reg.json', 'r')\n",
        "loaded_model_json = json_file.read()\n",
        "json_file.close()\n",
        "loaded_model = model_from_json(loaded_model_json)\n",
        "# load weights into new model\n",
        "loaded_model.load_weights(\"model.h5\")\n",
        "print(\"Loaded model from disk\")\n",
        " \n",
        "# evaluate loaded model on test data\n",
        "loaded_model. model.compile(loss=keras.losses.categorical_crossentropy,\n",
        "              optimizer=keras.optimizers.Adam(),\n",
        "              metrics=['accuracy',f1_m,precision_m, recall_m])\n",
        "loss, accuracy, f1_score, precision, recall = model.evaluate(X_test, Y_test, verbose=0)\n",
        "print('Test loss:', loss)\n",
        "print('Test accuracy:', accuracy)\n",
        "print('Test Precision:',precision)\n",
        "print('Test Recall',recall)\n",
        "print('Test F1_Score',f1_score)"
      ],
      "execution_count": 47,
      "outputs": [
        {
          "output_type": "stream",
          "text": [
            "Loaded model from disk\n"
          ],
          "name": "stdout"
        },
        {
          "output_type": "stream",
          "text": [
            "/usr/local/lib/python3.6/dist-packages/keras/engine/sequential.py:111: UserWarning: `Sequential.model` is deprecated. `Sequential` is a subclass of `Model`, you can just use your `Sequential` instance directly.\n",
            "  warnings.warn('`Sequential.model` is deprecated. '\n"
          ],
          "name": "stderr"
        },
        {
          "output_type": "stream",
          "text": [
            "Test loss: 1.0393064376473646\n",
            "Test accuracy: 0.6101499423298731\n",
            "Test Precision: 0.6507101260824895\n",
            "Test Recall 0.5369515998120381\n",
            "Test F1_Score 0.5874357935410551\n"
          ],
          "name": "stdout"
        }
      ]
    }
  ]
}