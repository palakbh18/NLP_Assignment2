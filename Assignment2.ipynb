{
  "nbformat": 4,
  "nbformat_minor": 0,
  "metadata": {
    "colab": {
      "name": "Assignment2.ipynb",
      "provenance": [],
      "collapsed_sections": [],
      "toc_visible": true,
      "authorship_tag": "ABX9TyM6+7jD1z2tbT+a7NwaK5Op",
      "include_colab_link": true
    },
    "kernelspec": {
      "name": "python3",
      "display_name": "Python 3"
    },
    "accelerator": "GPU"
  },
  "cells": [
    {
      "cell_type": "markdown",
      "metadata": {
        "id": "view-in-github",
        "colab_type": "text"
      },
      "source": [
        "<a href=\"https://colab.research.google.com/github/palakbh18/NLP_Assignment2/blob/master/Assignment2.ipynb\" target=\"_parent\"><img src=\"https://colab.research.google.com/assets/colab-badge.svg\" alt=\"Open In Colab\"/></a>"
      ]
    },
    {
      "cell_type": "code",
      "metadata": {
        "id": "j5_pNVptbPjJ",
        "colab_type": "code",
        "outputId": "fcde55b0-2403-4183-e9d8-287d151622f0",
        "colab": {
          "base_uri": "https://localhost:8080/",
          "height": 253
        }
      },
      "source": [
        "# Import tensorflow\n",
        "# Import the pandas library to read the dataset \n",
        "import tensorflow.compat.v1 as tf\n",
        "tf.disable_v2_behavior()\n",
        "import pandas as pd\n",
        "# Import numpy \n",
        "import numpy as np\n",
        "# Import nltk\n",
        "import nltk \n",
        "import matplotlib.pyplot as plt\n",
        "import random \n",
        "from nltk.tokenize import word_tokenize\n",
        "nltk.download('punkt') \n",
        "nltk.download('stopwords') \n",
        "nltk.download('wordnet') "
      ],
      "execution_count": 2,
      "outputs": [
        {
          "output_type": "display_data",
          "data": {
            "text/html": [
              "<p style=\"color: red;\">\n",
              "The default version of TensorFlow in Colab will soon switch to TensorFlow 2.x.<br>\n",
              "We recommend you <a href=\"https://www.tensorflow.org/guide/migrate\" target=\"_blank\">upgrade</a> now \n",
              "or ensure your notebook will continue to use TensorFlow 1.x via the <code>%tensorflow_version 1.x</code> magic:\n",
              "<a href=\"https://colab.research.google.com/notebooks/tensorflow_version.ipynb\" target=\"_blank\">more info</a>.</p>\n"
            ],
            "text/plain": [
              "<IPython.core.display.HTML object>"
            ]
          },
          "metadata": {
            "tags": []
          }
        },
        {
          "output_type": "stream",
          "text": [
            "WARNING:tensorflow:From /tensorflow-1.15.0/python3.6/tensorflow_core/python/compat/v2_compat.py:68: disable_resource_variables (from tensorflow.python.ops.variable_scope) is deprecated and will be removed in a future version.\n",
            "Instructions for updating:\n",
            "non-resource variables are not supported in the long term\n",
            "[nltk_data] Downloading package punkt to /root/nltk_data...\n",
            "[nltk_data]   Unzipping tokenizers/punkt.zip.\n",
            "[nltk_data] Downloading package stopwords to /root/nltk_data...\n",
            "[nltk_data]   Unzipping corpora/stopwords.zip.\n",
            "[nltk_data] Downloading package wordnet to /root/nltk_data...\n",
            "[nltk_data]   Unzipping corpora/wordnet.zip.\n"
          ],
          "name": "stdout"
        },
        {
          "output_type": "execute_result",
          "data": {
            "text/plain": [
              "True"
            ]
          },
          "metadata": {
            "tags": []
          },
          "execution_count": 2
        }
      ]
    },
    {
      "cell_type": "code",
      "metadata": {
        "id": "pVsBt08N8Q14",
        "colab_type": "code",
        "outputId": "4dba5d39-2ea4-4796-f8c9-e6a668917f81",
        "colab": {
          "base_uri": "https://localhost:8080/",
          "height": 359
        }
      },
      "source": [
        "#Import the required libraries\n",
        "import csv\n",
        "import urllib.request as urllib2\n",
        "# Importing data using the github url\n",
        "url = 'https://raw.githubusercontent.com/cacoderquan/Sentiment-Analysis-on-the-Rotten-Tomatoes-movie-review-dataset/master/train.tsv'\n",
        "response = urllib2.urlopen(url)\n",
        "\n",
        "# Read the data and convert into dataframe\n",
        "data = pd.read_csv(response,delimiter='\\t',encoding='utf-8')\n",
        "# Printing the first 10 rows of the dataset\n",
        "data.head(10)\n"
      ],
      "execution_count": 3,
      "outputs": [
        {
          "output_type": "execute_result",
          "data": {
            "text/html": [
              "<div>\n",
              "<style scoped>\n",
              "    .dataframe tbody tr th:only-of-type {\n",
              "        vertical-align: middle;\n",
              "    }\n",
              "\n",
              "    .dataframe tbody tr th {\n",
              "        vertical-align: top;\n",
              "    }\n",
              "\n",
              "    .dataframe thead th {\n",
              "        text-align: right;\n",
              "    }\n",
              "</style>\n",
              "<table border=\"1\" class=\"dataframe\">\n",
              "  <thead>\n",
              "    <tr style=\"text-align: right;\">\n",
              "      <th></th>\n",
              "      <th>PhraseId</th>\n",
              "      <th>SentenceId</th>\n",
              "      <th>Phrase</th>\n",
              "      <th>Sentiment</th>\n",
              "    </tr>\n",
              "  </thead>\n",
              "  <tbody>\n",
              "    <tr>\n",
              "      <th>0</th>\n",
              "      <td>1</td>\n",
              "      <td>1</td>\n",
              "      <td>A series of escapades demonstrating the adage ...</td>\n",
              "      <td>1</td>\n",
              "    </tr>\n",
              "    <tr>\n",
              "      <th>1</th>\n",
              "      <td>2</td>\n",
              "      <td>1</td>\n",
              "      <td>A series of escapades demonstrating the adage ...</td>\n",
              "      <td>2</td>\n",
              "    </tr>\n",
              "    <tr>\n",
              "      <th>2</th>\n",
              "      <td>3</td>\n",
              "      <td>1</td>\n",
              "      <td>A series</td>\n",
              "      <td>2</td>\n",
              "    </tr>\n",
              "    <tr>\n",
              "      <th>3</th>\n",
              "      <td>4</td>\n",
              "      <td>1</td>\n",
              "      <td>A</td>\n",
              "      <td>2</td>\n",
              "    </tr>\n",
              "    <tr>\n",
              "      <th>4</th>\n",
              "      <td>5</td>\n",
              "      <td>1</td>\n",
              "      <td>series</td>\n",
              "      <td>2</td>\n",
              "    </tr>\n",
              "    <tr>\n",
              "      <th>5</th>\n",
              "      <td>6</td>\n",
              "      <td>1</td>\n",
              "      <td>of escapades demonstrating the adage that what...</td>\n",
              "      <td>2</td>\n",
              "    </tr>\n",
              "    <tr>\n",
              "      <th>6</th>\n",
              "      <td>7</td>\n",
              "      <td>1</td>\n",
              "      <td>of</td>\n",
              "      <td>2</td>\n",
              "    </tr>\n",
              "    <tr>\n",
              "      <th>7</th>\n",
              "      <td>8</td>\n",
              "      <td>1</td>\n",
              "      <td>escapades demonstrating the adage that what is...</td>\n",
              "      <td>2</td>\n",
              "    </tr>\n",
              "    <tr>\n",
              "      <th>8</th>\n",
              "      <td>9</td>\n",
              "      <td>1</td>\n",
              "      <td>escapades</td>\n",
              "      <td>2</td>\n",
              "    </tr>\n",
              "    <tr>\n",
              "      <th>9</th>\n",
              "      <td>10</td>\n",
              "      <td>1</td>\n",
              "      <td>demonstrating the adage that what is good for ...</td>\n",
              "      <td>2</td>\n",
              "    </tr>\n",
              "  </tbody>\n",
              "</table>\n",
              "</div>"
            ],
            "text/plain": [
              "   PhraseId  ...  Sentiment\n",
              "0         1  ...          1\n",
              "1         2  ...          2\n",
              "2         3  ...          2\n",
              "3         4  ...          2\n",
              "4         5  ...          2\n",
              "5         6  ...          2\n",
              "6         7  ...          2\n",
              "7         8  ...          2\n",
              "8         9  ...          2\n",
              "9        10  ...          2\n",
              "\n",
              "[10 rows x 4 columns]"
            ]
          },
          "metadata": {
            "tags": []
          },
          "execution_count": 3
        }
      ]
    },
    {
      "cell_type": "code",
      "metadata": {
        "id": "4wcHpyYL8Ui5",
        "colab_type": "code",
        "colab": {}
      },
      "source": [
        "data = data.sample(frac=1).reset_index(drop=True)\n"
      ],
      "execution_count": 0,
      "outputs": []
    },
    {
      "cell_type": "code",
      "metadata": {
        "id": "-p3NgyNn8WIy",
        "colab_type": "code",
        "outputId": "de42c82d-5988-40b4-e7a0-0b439c89cfd5",
        "colab": {
          "base_uri": "https://localhost:8080/",
          "height": 34
        }
      },
      "source": [
        "# Import train_test_split from sklearn and set the random state to 2003\n",
        "from sklearn.model_selection import train_test_split\n",
        "X_train, X_test, Y_train, Y_test = train_test_split(data ['Phrase'], data ['Sentiment'], test_size=0.3, random_state=2003)\n",
        "documents=[]\n",
        "X_train = np.array(X_train.values.tolist())\n",
        "Y_train = np.array(Y_train.values.tolist())\n",
        "\n",
        "## Cleaning and pre processing the data\n",
        "## Use a word tokenizer to tokenize the documents\n",
        "for i in range(len(X_train)):\n",
        "  documents.append([list(word_tokenize(X_train[i])), Y_train[i]]) \n",
        "X_test = np.array(X_test.values.tolist())\n",
        "Y_test = np.array(Y_test.values.tolist())\n",
        "for i in range(len(X_test)):\n",
        "  documents.append([list(word_tokenize(X_test[i])), Y_test[i]]) \n",
        "# print a document\n",
        "documents[0]"
      ],
      "execution_count": 5,
      "outputs": [
        {
          "output_type": "execute_result",
          "data": {
            "text/plain": [
              "[['thing', 'missing'], 2]"
            ]
          },
          "metadata": {
            "tags": []
          },
          "execution_count": 5
        }
      ]
    },
    {
      "cell_type": "code",
      "metadata": {
        "id": "cB6oVtso8YRu",
        "colab_type": "code",
        "colab": {}
      },
      "source": [
        "## Removing stop words and using lemmatizer to stem the words\n",
        "from nltk.corpus import stopwords \n",
        "from nltk.stem import WordNetLemmatizer, PorterStemmer, LancasterStemmer \n",
        "porter = PorterStemmer() \n",
        "lancaster=LancasterStemmer() \n",
        "wordnet_lemmatizer = WordNetLemmatizer() \n",
        "stopwords_en = stopwords.words(\"english\") \n",
        "punctuations=\"?:!.,;'\\\"-()\"\n",
        "## Using various parameters to remove stop words, stemming and lemmatizing\n",
        "remove_stopwords = True\n",
        "useStemming = False\n",
        "useLemma = False\n",
        "removePuncs = True\n"
      ],
      "execution_count": 0,
      "outputs": []
    },
    {
      "cell_type": "code",
      "metadata": {
        "id": "TPYGw8h58aig",
        "colab_type": "code",
        "colab": {}
      },
      "source": [
        "## Creating more refined and clean reviews\n",
        "for l in range(len(documents)):                   \n",
        "  label = documents[l][1]                         \n",
        "  temp = []                                  \n",
        "  for w in documents[l][0]:                       \n",
        "    newWord = w                                   \n",
        "    if remove_stopwords and (w in stopwords_en):  \n",
        "      continue                                   \n",
        "    if removePuncs and (w in punctuations):       \n",
        "      continue                                    \n",
        "    if useStemming: \n",
        "    ## Use Lancaster stemmer\n",
        "      newWord = lancaster.stem(newWord)\n",
        "    if useLemma: \n",
        "      newWord = wordnet_lemmatizer.lemmatize(newWord) \n",
        "    temp.append(newWord)                 \n",
        "## Removing the unprocessed reviews with clean refined reviews\n",
        "  documents[l] = (temp, label)             \n",
        "  documents[l] = (' '.join(temp), label) \n"
      ],
      "execution_count": 0,
      "outputs": []
    },
    {
      "cell_type": "code",
      "metadata": {
        "id": "hPYgRYM38c7K",
        "colab_type": "code",
        "colab": {
          "base_uri": "https://localhost:8080/",
          "height": 238
        },
        "outputId": "232e1795-67c6-45b4-caa4-4dd9a3ca8c7c"
      },
      "source": [
        "## Displaying sample of data documents\n",
        "data = pd.DataFrame(documents, columns=['text', 'sentiment']) \n",
        "data.head()\n",
        "X_train, X_test, Y_train, Y_test = train_test_split(data['text'],  data['sentiment'], test_size=0.3, random_state=2003)\n",
        "print(Y_train)\n",
        "## Class Imbalance Normalization using class weights\n",
        "from sklearn.utils import class_weight\n",
        "print(np.unique(Y_train))\n",
        "class_weight = class_weight.compute_class_weight('balanced' ,np.unique(Y_train) ,Y_train)\n"
      ],
      "execution_count": 8,
      "outputs": [
        {
          "output_type": "stream",
          "text": [
            "13718     3\n",
            "91191     3\n",
            "97160     2\n",
            "143983    1\n",
            "37501     2\n",
            "         ..\n",
            "66444     1\n",
            "32466     2\n",
            "61551     2\n",
            "84485     2\n",
            "7495      1\n",
            "Name: sentiment, Length: 109242, dtype: int64\n",
            "[0 1 2 3 4]\n"
          ],
          "name": "stdout"
        }
      ]
    },
    {
      "cell_type": "code",
      "metadata": {
        "id": "KGYLaZNB8iE2",
        "colab_type": "code",
        "outputId": "85171453-758f-4e5f-ccbb-d49c4709a746",
        "colab": {
          "base_uri": "https://localhost:8080/",
          "height": 34
        }
      },
      "source": [
        "### Using TF-IDF Vectorization\n",
        "from sklearn.feature_extraction.text import CountVectorizer , TfidfVectorizer\n",
        "from keras.utils import to_categorical\n",
        "\n",
        "vectorizer = TfidfVectorizer(max_features = 2000,ngram_range=(1, 1)) \n",
        "X = vectorizer.fit_transform(data[\"text\"]) \n",
        "Y = data['sentiment'] \n",
        "\n",
        "X_train = vectorizer.transform(X_train).toarray()\n",
        "Y_train = Y_train \n",
        "X_test = vectorizer.transform(X_test).toarray()\n",
        "Y_test = Y_test"
      ],
      "execution_count": 9,
      "outputs": [
        {
          "output_type": "stream",
          "text": [
            "Using TensorFlow backend.\n"
          ],
          "name": "stderr"
        }
      ]
    },
    {
      "cell_type": "code",
      "metadata": {
        "id": "AZICVCcv8peq",
        "colab_type": "code",
        "colab": {}
      },
      "source": [
        "import keras\n",
        "from keras.datasets import mnist\n",
        "from keras.models import Sequential\n",
        "from keras.layers import Dense, Dropout, Flatten\n",
        "from keras.layers import Conv1D, MaxPooling1D\n"
      ],
      "execution_count": 0,
      "outputs": []
    },
    {
      "cell_type": "code",
      "metadata": {
        "id": "PpHXefdm8pmb",
        "colab_type": "code",
        "colab": {
          "base_uri": "https://localhost:8080/",
          "height": 221
        },
        "outputId": "6d88b74d-d9b0-406c-9a1f-7bb9749f3491"
      },
      "source": [
        "## Setting up parameters for training the model\n",
        "num_classes = 5\n",
        "print(Y_train)"
      ],
      "execution_count": 11,
      "outputs": [
        {
          "output_type": "stream",
          "text": [
            "13718     3\n",
            "91191     3\n",
            "97160     2\n",
            "143983    1\n",
            "37501     2\n",
            "         ..\n",
            "66444     1\n",
            "32466     2\n",
            "61551     2\n",
            "84485     2\n",
            "7495      1\n",
            "Name: sentiment, Length: 109242, dtype: int64\n"
          ],
          "name": "stdout"
        }
      ]
    },
    {
      "cell_type": "code",
      "metadata": {
        "id": "xD_gC44Q8vMx",
        "colab_type": "code",
        "colab": {}
      },
      "source": [
        "Y_train = keras.utils.to_categorical(Y_train, num_classes)\n",
        "Y_test = keras.utils.to_categorical(Y_test, num_classes)"
      ],
      "execution_count": 0,
      "outputs": []
    },
    {
      "cell_type": "code",
      "metadata": {
        "id": "sznvNaoowxxv",
        "colab_type": "code",
        "colab": {}
      },
      "source": [
        "# Defining functions for calculating various performance metrics\n",
        "from keras import backend as K\n",
        "\n",
        "def recall_m(y_true, y_pred):\n",
        "    true_positives = K.sum(K.round(K.clip(y_true * y_pred, 0, 1)))\n",
        "    possible_positives = K.sum(K.round(K.clip(y_true, 0, 1)))\n",
        "    recall = true_positives / (possible_positives + K.epsilon())\n",
        "    return recall\n",
        "\n",
        "def precision_m(y_true, y_pred):\n",
        "    true_positives = K.sum(K.round(K.clip(y_true * y_pred, 0, 1)))\n",
        "    predicted_positives = K.sum(K.round(K.clip(y_pred, 0, 1)))\n",
        "    precision = true_positives / (predicted_positives + K.epsilon())\n",
        "    return precision\n",
        "\n",
        "def f1_m(y_true, y_pred):\n",
        "    precision = precision_m(y_true, y_pred)\n",
        "    recall = recall_m(y_true, y_pred)\n",
        "    return 2*((precision*recall)/(precision+recall+K.epsilon()))"
      ],
      "execution_count": 0,
      "outputs": []
    },
    {
      "cell_type": "code",
      "metadata": {
        "id": "EXrD6ky9Uz4X",
        "colab_type": "code",
        "colab": {}
      },
      "source": [
        "## Function for defining a convolutional model\n",
        "from keras.models import Sequential\n",
        "def cnnModelTrain():\n",
        "\n",
        "    model = Sequential()\n",
        "    model.add(Conv1D(filters=64, kernel_size=3,\n",
        "                 activation='relu',\n",
        "                 input_shape=(2000,1)))\n",
        "    model.add(MaxPooling1D(pool_size=1))\n",
        "    model.add(Conv1D(32, kernel_size=5, activation='relu'))\n",
        "    model.add(MaxPooling1D(pool_size=1))\n",
        "    model.add(Dropout(rate = 0.50))\n",
        "    model.add(Flatten())\n",
        "    # model.add(Dense(64, activation='relu'))\n",
        "    # model.add(Dropout(0.5))\n",
        "    model.add(Dense(num_classes, activation='softmax'))\n",
        "  # Define a method to feed inputs through the model\n",
        "    model.compile(loss=keras.losses.categorical_crossentropy,\n",
        "              optimizer=keras.optimizers.Adam(),\n",
        "              metrics=['accuracy',f1_m,precision_m, recall_m])\n",
        "    return model    "
      ],
      "execution_count": 0,
      "outputs": []
    },
    {
      "cell_type": "code",
      "metadata": {
        "id": "L8JgmV4GVb9Z",
        "colab_type": "code",
        "colab": {
          "base_uri": "https://localhost:8080/",
          "height": 700
        },
        "outputId": "9f95cc8e-d9b4-4332-acad-f58de70d5f0a"
      },
      "source": [
        "model= cnnModelTrain()\n",
        "model.summary()"
      ],
      "execution_count": 15,
      "outputs": [
        {
          "output_type": "stream",
          "text": [
            "WARNING:tensorflow:From /usr/local/lib/python3.6/dist-packages/keras/backend/tensorflow_backend.py:66: The name tf.get_default_graph is deprecated. Please use tf.compat.v1.get_default_graph instead.\n",
            "\n",
            "WARNING:tensorflow:From /usr/local/lib/python3.6/dist-packages/keras/backend/tensorflow_backend.py:541: The name tf.placeholder is deprecated. Please use tf.compat.v1.placeholder instead.\n",
            "\n",
            "WARNING:tensorflow:From /usr/local/lib/python3.6/dist-packages/keras/backend/tensorflow_backend.py:4432: The name tf.random_uniform is deprecated. Please use tf.random.uniform instead.\n",
            "\n",
            "WARNING:tensorflow:From /usr/local/lib/python3.6/dist-packages/keras/backend/tensorflow_backend.py:4267: The name tf.nn.max_pool is deprecated. Please use tf.nn.max_pool2d instead.\n",
            "\n",
            "WARNING:tensorflow:From /usr/local/lib/python3.6/dist-packages/keras/backend/tensorflow_backend.py:148: The name tf.placeholder_with_default is deprecated. Please use tf.compat.v1.placeholder_with_default instead.\n",
            "\n",
            "WARNING:tensorflow:From /usr/local/lib/python3.6/dist-packages/keras/backend/tensorflow_backend.py:3733: calling dropout (from tensorflow.python.ops.nn_ops) with keep_prob is deprecated and will be removed in a future version.\n",
            "Instructions for updating:\n",
            "Please use `rate` instead of `keep_prob`. Rate should be set to `rate = 1 - keep_prob`.\n",
            "WARNING:tensorflow:From /usr/local/lib/python3.6/dist-packages/keras/optimizers.py:793: The name tf.train.Optimizer is deprecated. Please use tf.compat.v1.train.Optimizer instead.\n",
            "\n",
            "WARNING:tensorflow:From /usr/local/lib/python3.6/dist-packages/keras/backend/tensorflow_backend.py:3576: The name tf.log is deprecated. Please use tf.math.log instead.\n",
            "\n",
            "Model: \"sequential_1\"\n",
            "_________________________________________________________________\n",
            "Layer (type)                 Output Shape              Param #   \n",
            "=================================================================\n",
            "conv1d_1 (Conv1D)            (None, 1998, 64)          256       \n",
            "_________________________________________________________________\n",
            "max_pooling1d_1 (MaxPooling1 (None, 1998, 64)          0         \n",
            "_________________________________________________________________\n",
            "conv1d_2 (Conv1D)            (None, 1994, 32)          10272     \n",
            "_________________________________________________________________\n",
            "max_pooling1d_2 (MaxPooling1 (None, 1994, 32)          0         \n",
            "_________________________________________________________________\n",
            "dropout_1 (Dropout)          (None, 1994, 32)          0         \n",
            "_________________________________________________________________\n",
            "flatten_1 (Flatten)          (None, 63808)             0         \n",
            "_________________________________________________________________\n",
            "dense_1 (Dense)              (None, 5)                 319045    \n",
            "=================================================================\n",
            "Total params: 329,573\n",
            "Trainable params: 329,573\n",
            "Non-trainable params: 0\n",
            "_________________________________________________________________\n"
          ],
          "name": "stdout"
        }
      ]
    },
    {
      "cell_type": "code",
      "metadata": {
        "id": "82VF57km820x",
        "colab_type": "code",
        "colab": {}
      },
      "source": [
        "X_train = X_train.reshape(X_train.shape[0], X_train.shape[1], 1)\n",
        "X_test = X_test.reshape(X_test.shape[0], X_test.shape[1], 1)"
      ],
      "execution_count": 0,
      "outputs": []
    },
    {
      "cell_type": "code",
      "metadata": {
        "id": "vkCXWhA487vc",
        "colab_type": "code",
        "outputId": "3309fbe6-2603-445f-d818-bc2e777e48a5",
        "colab": {
          "base_uri": "https://localhost:8080/",
          "height": 1000
        }
      },
      "source": [
        "#### Calcaulte inference time\n",
        "from time import time\n",
        "start_time = time()\n",
        "train_score=[]\n",
        "\n",
        "\n",
        "history = model.fit(X_train, Y_train,batch_size=64,epochs=8,class_weight=class_weight,verbose=1)\n",
        "\n",
        "# evaluate the model\n",
        "loss, accuracy, f1_score, precision, recall = model.evaluate(X_test, Y_test, verbose=0)\n",
        "#score = model.evaluate(X_test, Y_test, verbose=0)\n",
        "print('Test loss:', loss)\n",
        "print('Test accuracy:', accuracy)\n",
        "print('Test Precision:',precision)\n",
        "print('Test Recall',recall)\n",
        "print('Test F1_Score',f1_score)\n",
        "\n",
        "print(history.history.keys())\n",
        "\n",
        "## Plotting various metrics with epochs\n",
        "\n",
        "# summarize history for accuracy\n",
        "plt.plot(history.history['acc'])\n",
        "plt.title('Training Accuracy')\n",
        "plt.ylabel('accuracy')\n",
        "plt.xlabel('epoch')\n",
        "plt.show()\n",
        "\n",
        "# summarize history for Loss\n",
        "plt.plot(history.history['loss'])\n",
        "plt.title('Training Loss')\n",
        "plt.ylabel('Loss')\n",
        "plt.xlabel('epoch')\n",
        "plt.show()\n",
        "\n",
        "# summarize history for F1_Score\n",
        "plt.plot(history.history['f1_m'])\n",
        "plt.title('Training F1_Score')\n",
        "plt.ylabel('F1_Score')\n",
        "plt.xlabel('epoch')\n",
        "plt.show()\n",
        "\n",
        "# summarize history for Recall\n",
        "plt.plot(history.history['recall_m'])\n",
        "plt.title('Training Recall')\n",
        "plt.ylabel('Recall')\n",
        "plt.xlabel('epoch')\n",
        "plt.show()\n",
        "\n",
        "\n",
        "# summarize history for Precision\n",
        "plt.plot(history.history['precision_m'])\n",
        "plt.title('Training Precision')\n",
        "plt.ylabel('Precision')\n",
        "plt.xlabel('epoch')\n",
        "plt.show()\n",
        "\n",
        "#### Time for training the model\n",
        "time_taken = time() - start_time\n",
        "print(\"Inference time: %.4f s\" % time_taken)\n"
      ],
      "execution_count": 18,
      "outputs": [
        {
          "output_type": "stream",
          "text": [
            "Epoch 1/8\n",
            "109242/109242 [==============================] - 26s 236us/step - loss: 0.9536 - acc: 0.6244 - f1_m: 0.5952 - precision_m: 0.6768 - recall_m: 0.5323\n",
            "Epoch 2/8\n",
            "109242/109242 [==============================] - 25s 233us/step - loss: 0.9501 - acc: 0.6265 - f1_m: 0.5984 - precision_m: 0.6786 - recall_m: 0.5362\n",
            "Epoch 3/8\n",
            "109242/109242 [==============================] - 26s 234us/step - loss: 0.9477 - acc: 0.6268 - f1_m: 0.5993 - precision_m: 0.6797 - recall_m: 0.5371\n",
            "Epoch 4/8\n",
            "109242/109242 [==============================] - 26s 234us/step - loss: 0.9470 - acc: 0.6263 - f1_m: 0.5985 - precision_m: 0.6781 - recall_m: 0.5367\n",
            "Epoch 5/8\n",
            "109242/109242 [==============================] - 25s 233us/step - loss: 0.9441 - acc: 0.6274 - f1_m: 0.6008 - precision_m: 0.6804 - recall_m: 0.5390\n",
            "Epoch 6/8\n",
            "109242/109242 [==============================] - 26s 234us/step - loss: 0.9424 - acc: 0.6287 - f1_m: 0.6011 - precision_m: 0.6797 - recall_m: 0.5398\n",
            "Epoch 7/8\n",
            "109242/109242 [==============================] - 25s 233us/step - loss: 0.9413 - acc: 0.6298 - f1_m: 0.6035 - precision_m: 0.6816 - recall_m: 0.5425\n",
            "Epoch 8/8\n",
            "109242/109242 [==============================] - 26s 234us/step - loss: 0.9377 - acc: 0.6301 - f1_m: 0.6037 - precision_m: 0.6814 - recall_m: 0.5430\n",
            "Test loss: 1.0041618973590913\n",
            "Test accuracy: 0.6115169379298561\n",
            "Test Precision: 0.662873320004285\n",
            "Test Recall 0.5179845358622752\n",
            "Test F1_Score 0.5802761913517152\n",
            "dict_keys(['loss', 'acc', 'f1_m', 'precision_m', 'recall_m'])\n"
          ],
          "name": "stdout"
        },
        {
          "output_type": "display_data",
          "data": {
            "image/png": "[encoded data removed]",
            "text/plain": [
              "<Figure size 432x288 with 1 Axes>"
            ]
          },
          "metadata": {
            "tags": []
          }
        },
        {
          "output_type": "display_data",
          "data": {
            "image/png": "[encoded data removed]",
            "text/plain": [
              "<Figure size 432x288 with 1 Axes>"
            ]
          },
          "metadata": {
            "tags": []
          }
        },
        {
          "output_type": "display_data",
          "data": {
            "image/png": "[encoded data removed]",
            "text/plain": [
              "<Figure size 432x288 with 1 Axes>"
            ]
          },
          "metadata": {
            "tags": []
          }
        },
        {
          "output_type": "display_data",
          "data": {
            "image/png": "[encoded data removed]",
            "text/plain": [
              "<Figure size 432x288 with 1 Axes>"
            ]
          },
          "metadata": {
            "tags": []
          }
        },
        {
          "output_type": "display_data",
          "data": {
            "image/png": "[encoded data removed]",
            "text/plain": [
              "<Figure size 432x288 with 1 Axes>"
            ]
          },
          "metadata": {
            "tags": []
          }
        },
        {
          "output_type": "stream",
          "text": [
            "Inference time: 210.4121 s\n"
          ],
          "name": "stdout"
        }
      ]
    },
    {
      "cell_type": "code",
      "metadata": {
        "id": "zkMJrh8Vxao9",
        "colab_type": "code",
        "outputId": "9c117af4-d326-42db-f776-eaa8f1b27eff",
        "colab": {
          "base_uri": "https://localhost:8080/",
          "height": 34
        }
      },
      "source": [
        "# Serialize model to JSON\n",
        "# Saving the model\n",
        "model_json = model.to_json()\n",
        "with open(\"1116552_1dconv_reg.json\", \"w\") as json_file:\n",
        "    json_file.write(model_json)\n",
        "# serialize weights to HDF5\n",
        "model.save_weights(\"model.h5\")\n",
        "print(\"Saved model to disk\")"
      ],
      "execution_count": 19,
      "outputs": [
        {
          "output_type": "stream",
          "text": [
            "Saved model to disk\n"
          ],
          "name": "stdout"
        }
      ]
    },
    {
      "cell_type": "code",
      "metadata": {
        "id": "GK2yLFqcxa05",
        "colab_type": "code",
        "outputId": "9d510c81-4dfb-4faa-8165-a84e84fb7f0a",
        "colab": {
          "base_uri": "https://localhost:8080/",
          "height": 173
        }
      },
      "source": [
        "from keras.models import model_from_json\n",
        "# load the saved json and create model\n",
        "json_file = open('1116552_1dconv_reg.json', 'r')\n",
        "loaded_model_json = json_file.read()\n",
        "json_file.close()\n",
        "loaded_model = model_from_json(loaded_model_json)\n",
        "# load weights into new model\n",
        "loaded_model.load_weights(\"model.h5\")\n",
        "print(\"Loaded model from disk\")\n",
        " \n",
        "# evaluate loaded model on test data\n",
        "loaded_model. model.compile(loss=keras.losses.categorical_crossentropy,\n",
        "              optimizer=keras.optimizers.Adam(),\n",
        "              metrics=['accuracy',f1_m,precision_m, recall_m])\n",
        "loss, accuracy, f1_score, precision, recall = model.evaluate(X_test, Y_test, verbose=0)\n",
        "print('Test loss:', loss)\n",
        "print('Test accuracy:', accuracy)\n",
        "print('Test Precision:',precision)\n",
        "print('Test Recall',recall)\n",
        "print('Test F1_Score',f1_score)"
      ],
      "execution_count": 20,
      "outputs": [
        {
          "output_type": "stream",
          "text": [
            "Loaded model from disk\n"
          ],
          "name": "stdout"
        },
        {
          "output_type": "stream",
          "text": [
            "/usr/local/lib/python3.6/dist-packages/keras/engine/sequential.py:111: UserWarning: `Sequential.model` is deprecated. `Sequential` is a subclass of `Model`, you can just use your `Sequential` instance directly.\n",
            "  warnings.warn('`Sequential.model` is deprecated. '\n"
          ],
          "name": "stderr"
        },
        {
          "output_type": "stream",
          "text": [
            "Test loss: 1.0041618973590913\n",
            "Test accuracy: 0.6115169379298561\n",
            "Test Precision: 0.662873320004285\n",
            "Test Recall 0.5179845358622752\n",
            "Test F1_Score 0.5802761913517152\n"
          ],
          "name": "stdout"
        }
      ]
    }
  ]
}